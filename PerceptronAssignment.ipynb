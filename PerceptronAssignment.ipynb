{
 "cells": [
  {
   "cell_type": "markdown",
   "metadata": {},
   "source": [
    "Before you turn this problem in, make sure everything runs as expected. First, **restart the kernel** (in the menubar, select Kernel$\\rightarrow$Restart) and then **run all cells** (in the menubar, select Cell$\\rightarrow$Run All).\n",
    "\n",
    "Make sure you fill in any place that says `YOUR CODE HERE` or \"YOUR ANSWER HERE\", as well as your name and collaborators below:"
   ]
  },
  {
   "cell_type": "code",
   "execution_count": 2,
   "metadata": {},
   "outputs": [],
   "source": [
    "NAME = \"\"\n",
    "COLLABORATORS = \"\""
   ]
  },
  {
   "cell_type": "markdown",
   "metadata": {},
   "source": [
    "---"
   ]
  },
  {
   "cell_type": "markdown",
   "metadata": {
    "deletable": false,
    "editable": false,
    "nbgrader": {
     "checksum": "fb9b63d3036c5026cdd57dace6eb9905",
     "grade": false,
     "grade_id": "cell-c69dab2cf92d2ab4",
     "locked": true,
     "schema_version": 1,
     "solution": false
    }
   },
   "source": [
    "# Practical assigment 1: Perceptrons"
   ]
  },
  {
   "cell_type": "markdown",
   "metadata": {
    "deletable": false,
    "editable": false,
    "nbgrader": {
     "checksum": "287395ea388e38a57e41a878e35797bf",
     "grade": false,
     "grade_id": "cell-c8b339908ce223fa",
     "locked": true,
     "schema_version": 1,
     "solution": false
    }
   },
   "source": [
    "Watching the first lectures by prof. Mostafa, we have learnt about two types of perceptrons: classic and pocket. In this assignment you will implement in Python both types of perceptrons and test them against simulated and one real dataset.\n",
    "\n",
    "Your notebook will be graded automatically so follow the instructions and do not change the name of the functions.\n",
    "\n",
    "We begin importing some libraries."
   ]
  },
  {
   "cell_type": "code",
   "execution_count": 3,
   "metadata": {
    "deletable": false,
    "editable": false,
    "nbgrader": {
     "checksum": "fc7eafc6ef3ad097e9a839a69711cfa8",
     "grade": false,
     "grade_id": "cell-23d8ce61e063e83f",
     "locked": true,
     "schema_version": 1,
     "solution": false
    }
   },
   "outputs": [],
   "source": [
    "import numpy as np\n",
    "import matplotlib.pylab as plt\n",
    "import matplotlib.mlab\n",
    "import matplotlib.animation as animation\n",
    "from IPython.core.pylabtools import figsize, getfigs\n",
    "from IPython.display import display\n",
    "from IPython.display import HTML\n",
    "\n",
    "# This line is necessary to show the plots.\n",
    "%matplotlib inline\n",
    "\n",
    "# the line below points to the package we will use to animate the plots\n",
    "# you may need to install ffmpeg via `sudo apt install ffmpeg` (ubuntu) or `brew install ffmpeg` (mac)\n",
    "# then you can verify the path to ffmpeg via `which ffmpeg`\n",
    "plt.rcParams['animation.ffmpeg_path'] = '/usr/bin/ffmpeg'\n",
    "\n",
    "#plt.rcParams['animation.ffmpeg_path'] = 'C:\\\\ffmpeg\\\\bin\\\\ffmpeg.exe' #windows"
   ]
  },
  {
   "cell_type": "code",
   "execution_count": 4,
   "metadata": {},
   "outputs": [],
   "source": [
    "def sign(x):\n",
    "    if x >= 0:\n",
    "        return 1\n",
    "    return -1"
   ]
  },
  {
   "cell_type": "markdown",
   "metadata": {
    "deletable": false,
    "editable": false,
    "nbgrader": {
     "checksum": "6a8caffe4441012dfa87658cfa56f632",
     "grade": false,
     "grade_id": "cell-371af40942ef0a5f",
     "locked": true,
     "schema_version": 1,
     "solution": false
    }
   },
   "source": [
    "We are now ready to generate a dataset. We will start with a 1D Gaussian dataset, i.e., a dataset generated using a Gaussian distribution, to get used to numpy number generator and plot function."
   ]
  },
  {
   "cell_type": "code",
   "execution_count": 5,
   "metadata": {},
   "outputs": [
    {
     "name": "stderr",
     "output_type": "stream",
     "text": [
      "/home/haydee/anaconda3/lib/python3.7/site-packages/matplotlib/axes/_axes.py:6521: MatplotlibDeprecationWarning: \n",
      "The 'normed' kwarg was deprecated in Matplotlib 2.1 and will be removed in 3.1. Use 'density' instead.\n",
      "  alternative=\"'density'\", removal=\"3.1\")\n"
     ]
    },
    {
     "data": {
      "image/png": "[encoded data removed]",
      "text/plain": [
       "<Figure size 432x288 with 1 Axes>"
      ]
     },
     "metadata": {
      "needs_background": "light"
     },
     "output_type": "display_data"
    }
   ],
   "source": [
    "# Set a seed to guarantee reproducibility\n",
    "np.random.seed(0)\n",
    "\n",
    "# Set mean and standard deviation for set A\n",
    "musetA = 50\n",
    "sigmasetA = 10.0\n",
    "\n",
    "# Set the number of samples\n",
    "NsetA = 1000\n",
    "\n",
    "# Generate set A (check the documentation for random.normal)\n",
    "setA = np.random.normal(musetA, sigmasetA, NsetA)\n",
    "\n",
    "# Set mean and standard deviation for set B\n",
    "musetB = 100\n",
    "sigmasetB = 30.0\n",
    "\n",
    "# Set the number of samples\n",
    "NsetB = 800\n",
    "\n",
    "# Generate set B\n",
    "setB = np.random.normal(musetB, sigmasetB, NsetB)\n",
    "\n",
    "# the histogram of the data setA\n",
    "nbinsA, Abins, Apatches = plt.hist(setA, normed=True, bins=50)\n",
    "\n",
    "# the histogram of the data setB\n",
    "nbinsB, Bbins, Bpatches = plt.hist(setB, normed=True, bins=50)\n",
    "\n",
    "plt.xlabel('Arbitrary number')\n",
    "plt.ylabel('Probability')\n",
    "plt.title('Histogram of two normal distributions')\n",
    "plt.text(60, .025, r'$\\mu_A=50,\\ \\sigma_A=10$')\n",
    "plt.text(125, .015, r'$\\mu_B=1000,\\ \\sigma_B=30$')\n",
    "plt.grid(True)\n",
    "plt.show()"
   ]
  },
  {
   "cell_type": "markdown",
   "metadata": {},
   "source": [
    "However, we are interested in distributions of two or more dimensions. To do that we have to set a covariance matrix first. \n",
    "\n",
    "We are going to start with two independent distributions.\n",
    "\n",
    "Try to modify the parameters, mainly the covariance matrix and see what happens. Try using  equal covariances cosigmaAB = cosigmaBA != 0, then try to make them different. "
   ]
  },
  {
   "cell_type": "code",
   "execution_count": 6,
   "metadata": {},
   "outputs": [
    {
     "data": {
      "image/png": "[encoded data removed]",
      "text/plain": [
       "<Figure size 432x288 with 1 Axes>"
      ]
     },
     "metadata": {
      "needs_background": "light"
     },
     "output_type": "display_data"
    }
   ],
   "source": [
    "# Set a seed to guarantee reproducibility\n",
    "np.random.seed(0)\n",
    "\n",
    "# Set mean for set A and B\n",
    "musetA = np.array([50.0,50.0])\n",
    "musetB = np.array([100.0,100.0])\n",
    "\n",
    "sigmasetA = 10.0\n",
    "sigmasetB = 30.0\n",
    "cosigmaAB = 0.0\n",
    "cosigmaBA = 0.0\n",
    "\n",
    "# Set covariance matrix\n",
    "covAB = np.array([[ sigmasetA, cosigmaAB], \n",
    "                [cosigmaBA, sigmasetB]])\n",
    "\n",
    "# Set the number of samples for sets A and B\n",
    "NsetA = 1000\n",
    "NsetB = 800\n",
    "\n",
    "# Generate sets A and B (check the documentation for random.multivariate_normal)\n",
    "setA = np.random.multivariate_normal(musetA, covAB, NsetA)\n",
    "setB = np.random.multivariate_normal(musetB, covAB, NsetB)\n",
    "\n",
    "plt.scatter(setA[:,0], setA[:,1], s=10, cmap='blue')\n",
    "plt.scatter(setB[:,0], setB[:,1], s=10, cmap='orange')\n",
    "\n",
    "plt.title('Scatter plot of two normal distributions')\n",
    "plt.grid(True)\n",
    "plt.axis('equal')\n",
    "plt.show()"
   ]
  },
  {
   "cell_type": "markdown",
   "metadata": {},
   "source": [
    "We know now how to generate 2D clouds. Now we must learn how to generate a labeled dataset. To do that, first we join the two sets of points and then we add the labels (-1 and 1 in this case)."
   ]
  },
  {
   "cell_type": "code",
   "execution_count": 7,
   "metadata": {},
   "outputs": [
    {
     "name": "stderr",
     "output_type": "stream",
     "text": [
      "/home/haydee/anaconda3/lib/python3.7/site-packages/ipykernel_launcher.py:22: RuntimeWarning: covariance is not symmetric positive-semidefinite.\n",
      "/home/haydee/anaconda3/lib/python3.7/site-packages/ipykernel_launcher.py:23: RuntimeWarning: covariance is not symmetric positive-semidefinite.\n"
     ]
    },
    {
     "data": {
      "image/png": "[encoded data removed]",
      "text/plain": [
       "<Figure size 432x288 with 1 Axes>"
      ]
     },
     "metadata": {
      "needs_background": "light"
     },
     "output_type": "display_data"
    },
    {
     "name": "stdout",
     "output_type": "stream",
     "text": [
      "(180, 2) (180,) (180, 3)\n",
      "[[ 1.         42.8653987  46.10164681]\n",
      " [ 1.         44.88842781 49.70289938]\n",
      " [ 1.         43.24694006 44.57821934]\n",
      " [ 1.         46.36697468 47.56135642]\n",
      " [ 1.         50.16956626 50.62920604]]\n"
     ]
    }
   ],
   "source": [
    "# Set a seed to guarantee reproducibility\n",
    "np.random.seed(0)\n",
    "\n",
    "# Set mean for set A and B\n",
    "musetA = np.array([50.0,50.0])\n",
    "musetB = np.array([65.0,50.0])\n",
    "\n",
    "sigmasetA = 10.0\n",
    "sigmasetB = 10.0\n",
    "cosigmaAB = 5.0\n",
    "cosigmaBA = 15.0\n",
    "\n",
    "# Set covariance matrix\n",
    "covAB = np.array([[sigmasetA, cosigmaAB], \n",
    "                [cosigmaBA, sigmasetB]])\n",
    "\n",
    "# Set the number of samples for sets A and B\n",
    "NsetA = 100\n",
    "NsetB = 80\n",
    "\n",
    "# Generate sets A and B (check the documentation for random.multivariate_normal)\n",
    "setA = np.random.multivariate_normal(musetA, covAB, NsetA)\n",
    "setB = np.random.multivariate_normal(musetB, covAB, NsetB)\n",
    "\n",
    "plt.scatter(setA[:,0], setA[:,1], s=20, c='blue')\n",
    "plt.scatter(setB[:,0], setB[:,1], s=20, c='orange')\n",
    "\n",
    "plt.title('Scatter plot of two normal distributions')\n",
    "plt.grid(True)\n",
    "plt.axis('equal')\n",
    "plt.show()\n",
    "\n",
    "# Join the datasets A and B (check the documentation for append)\n",
    "datasetAB = np.append(setA,setB,axis=0)\n",
    "NsetAB = NsetA + NsetB\n",
    "\n",
    "# Generate labels\n",
    "labelsAB = np.array([-1.0]*NsetA + [1.0]*NsetB)\n",
    "\n",
    "# Insert x_0 = 1 for all points\n",
    "datasetABx0 = np.insert(datasetAB, 0, [1.0]*NsetAB, axis=1) \n",
    "\n",
    "# Check dataset dimensions\n",
    "print(datasetAB.shape,labelsAB.shape,datasetABx0.shape)\n",
    "\n",
    "# Check if things worked OK\n",
    "print(datasetABx0[:5,])"
   ]
  },
  {
   "cell_type": "markdown",
   "metadata": {},
   "source": [
    "Finally, the assignment...\n",
    "\n",
    "First, you are going to implement the classic perceptron. To do that, use the signature definition below."
   ]
  },
  {
   "cell_type": "code",
   "execution_count": 8,
   "metadata": {
    "deletable": false,
    "nbgrader": {
     "checksum": "ab62e9ce17c6e01a9dcc3c4fc77ca862",
     "grade": false,
     "grade_id": "classic-perceptron",
     "locked": false,
     "schema_version": 1,
     "solution": true
    }
   },
   "outputs": [],
   "source": [
    "def ClassicPerceptron(W,X,Y,maxiter=1000,reorder=True):\n",
    "    \"\"\"ClassicPerceptron function implements the most basic perceptron. \n",
    "\n",
    "    This algorithm starts by reordering the training samples and their labels\n",
    "    if reorder is equal to True. Then, it iterates for all the samples, as many\n",
    "    times as it takes, to correctly classify all the samples, or until the number \n",
    "    of iterations reaches maxiter.\n",
    "\n",
    "    Parameters\n",
    "    ----------\n",
    "    W : numpy array of floats\n",
    "        The initial set of weights for the perceptron classificator.\n",
    "    X : numpy array of floats\n",
    "        The dataset with the bias (first column is equal to 1.0).\n",
    "    Y : numpy array of floats\n",
    "        The labels (-1.0, ou 1.0) for each line of X.\n",
    "    maxiter : integer\n",
    "        The maximum number of iterations allowed before stopping.\n",
    "    reorder : boolean\n",
    "        reorder the training samples and their labels.\n",
    "\n",
    "    Returns\n",
    "    -------\n",
    "    WCP : list of numpy array of floats\n",
    "         All the weights of the perceptron classifier computed by the \n",
    "         algorithm. We need all of them to generate a movie later. \n",
    "         \n",
    "    \"\"\"\n",
    "\n",
    "    # Sets the random seed to guarantee reproducibility.\n",
    "    np.random.seed(34191)\n",
    "    \n",
    "    # shuffles both X and Y in the same order\n",
    "    randomize = np.arange(len(X))\n",
    "    np.random.shuffle(randomize)\n",
    "    X = X[randomize]\n",
    "    Y = Y[randomize]\n",
    "    \n",
    "    # YOUR CODE HERE\n",
    "    raise NotImplementedError()"
   ]
  },
  {
   "cell_type": "code",
   "execution_count": 9,
   "metadata": {},
   "outputs": [
    {
     "ename": "NotImplementedError",
     "evalue": "",
     "output_type": "error",
     "traceback": [
      "\u001b[0;31m---------------------------------------------------------------------------\u001b[0m",
      "\u001b[0;31mNotImplementedError\u001b[0m                       Traceback (most recent call last)",
      "\u001b[0;32m<ipython-input-9-b1665afe3174>\u001b[0m in \u001b[0;36m<module>\u001b[0;34m\u001b[0m\n\u001b[1;32m      1\u001b[0m \u001b[0mw\u001b[0m \u001b[0;34m=\u001b[0m \u001b[0mnp\u001b[0m\u001b[0;34m.\u001b[0m\u001b[0marray\u001b[0m\u001b[0;34m(\u001b[0m\u001b[0;34m[\u001b[0m\u001b[0;36m0.0\u001b[0m\u001b[0;34m,\u001b[0m \u001b[0;36m0.0\u001b[0m\u001b[0;34m,\u001b[0m \u001b[0;36m0.0\u001b[0m\u001b[0;34m]\u001b[0m\u001b[0;34m)\u001b[0m\u001b[0;34m\u001b[0m\u001b[0;34m\u001b[0m\u001b[0m\n\u001b[0;32m----> 2\u001b[0;31m \u001b[0mw_classic\u001b[0m \u001b[0;34m=\u001b[0m \u001b[0mClassicPerceptron\u001b[0m\u001b[0;34m(\u001b[0m\u001b[0mw\u001b[0m\u001b[0;34m,\u001b[0m \u001b[0mdatasetABx0\u001b[0m\u001b[0;34m,\u001b[0m \u001b[0mlabelsAB\u001b[0m\u001b[0;34m)\u001b[0m\u001b[0;34m\u001b[0m\u001b[0;34m\u001b[0m\u001b[0m\n\u001b[0m\u001b[1;32m      3\u001b[0m \u001b[0;34m\u001b[0m\u001b[0m\n\u001b[1;32m      4\u001b[0m \u001b[0mw_classic\u001b[0m\u001b[0;34m[\u001b[0m\u001b[0;34m-\u001b[0m\u001b[0;36m1\u001b[0m\u001b[0;34m]\u001b[0m\u001b[0;34m\u001b[0m\u001b[0;34m\u001b[0m\u001b[0m\n",
      "\u001b[0;32m<ipython-input-8-10f6960570db>\u001b[0m in \u001b[0;36mClassicPerceptron\u001b[0;34m(W, X, Y, maxiter, reorder)\u001b[0m\n\u001b[1;32m     38\u001b[0m \u001b[0;34m\u001b[0m\u001b[0m\n\u001b[1;32m     39\u001b[0m     \u001b[0;31m# YOUR CODE HERE\u001b[0m\u001b[0;34m\u001b[0m\u001b[0;34m\u001b[0m\u001b[0;34m\u001b[0m\u001b[0m\n\u001b[0;32m---> 40\u001b[0;31m     \u001b[0;32mraise\u001b[0m \u001b[0mNotImplementedError\u001b[0m\u001b[0;34m(\u001b[0m\u001b[0;34m)\u001b[0m\u001b[0;34m\u001b[0m\u001b[0;34m\u001b[0m\u001b[0m\n\u001b[0m",
      "\u001b[0;31mNotImplementedError\u001b[0m: "
     ]
    }
   ],
   "source": [
    "w = np.array([0.0, 0.0, 0.0])\n",
    "w_classic = ClassicPerceptron(w, datasetABx0, labelsAB)\n",
    "\n",
    "w_classic[-1]"
   ]
  },
  {
   "cell_type": "code",
   "execution_count": null,
   "metadata": {
    "deletable": false,
    "editable": false,
    "nbgrader": {
     "checksum": "acd8ada4b954b811e29f510df373d196",
     "grade": true,
     "grade_id": "classic-perceptron-tests",
     "locked": true,
     "points": 5,
     "schema_version": 1,
     "solution": false
    }
   },
   "outputs": [],
   "source": [
    "assert len(w_classic) == 23\n",
    "assert w_classic[-1][0] == -2\n",
    "assert np.round(w_classic[-1][1]) == 73.0\n",
    "assert np.round(w_classic[-1][2]) == -84.0"
   ]
  },
  {
   "cell_type": "markdown",
   "metadata": {
    "deletable": false,
    "editable": false,
    "nbgrader": {
     "checksum": "cb71c533380f56cb64b4e908cfbcf4ec",
     "grade": false,
     "grade_id": "cell-73ea1d9dcd231076",
     "locked": true,
     "schema_version": 1,
     "solution": false
    }
   },
   "source": [
    "Now, you are going to implement the pocket perceptron. To do that, use the signature definition bellow."
   ]
  },
  {
   "cell_type": "code",
   "execution_count": null,
   "metadata": {
    "deletable": false,
    "nbgrader": {
     "checksum": "082144ff1d1ec4c2206f4b3f3f37adfd",
     "grade": false,
     "grade_id": "pocket-perceptron",
     "locked": false,
     "schema_version": 1,
     "solution": true
    }
   },
   "outputs": [],
   "source": [
    "def PocketPerceptron(W,X,Y,maxiter=1000):\n",
    "    \"\"\"PocketPerceptron function implements the pocket perceptron. \n",
    "\n",
    "    This algorithm starts by checking if all training samples are correctly classified.\n",
    "    If some are not, choose one sample not correctly classified and adjust W. Then it \n",
    "    will repeat the above procedure until all samples are correctly classified, or until \n",
    "    the number of iterations reaches maxiter.\n",
    "\n",
    "    Parameters\n",
    "    ----------\n",
    "    W : numpy array of floats\n",
    "        The initial set of weights for the perceptron classificator.\n",
    "    X : numpy array of floats\n",
    "        The dataset with the bias (first column is equal to 1.0).\n",
    "    Y : numpy array of floats\n",
    "        The labels (-1.0, ou 1.0) for each line of X.\n",
    "    maxiter : integer\n",
    "        The maximum number of iterations allowed before stopping.\n",
    "\n",
    "    Returns\n",
    "    -------\n",
    "    A tuple (WPP, WPP_best)\n",
    "    WPP : list of numpy array of floats\n",
    "         All the weights of the perceptron classifier computed by the \n",
    "         algorithm. We need all of them to generate a movie later.\n",
    "    WPP_best : numpy array of floats\n",
    "        Array of weights found in the iteration with the least misclassifications.\n",
    "        If the dataset is linearly separable and maxiter is large enough, WPP_best = WPP[-1]\n",
    "    \n",
    "    \"\"\"\n",
    "\n",
    "    # Sets the random seed to guarantee reproducibility.\n",
    "    np.random.seed(34191)\n",
    "    \n",
    "    # shuffles both X and Y in the same order\n",
    "    randomize = np.arange(len(X))\n",
    "    np.random.shuffle(randomize)\n",
    "    X = X[randomize]\n",
    "    Y = Y[randomize]\n",
    "    \n",
    "    # YOUR CODE HERE\n",
    "    raise NotImplementedError()"
   ]
  },
  {
   "cell_type": "code",
   "execution_count": null,
   "metadata": {},
   "outputs": [],
   "source": [
    "w_pocket, w_pocket_best = PocketPerceptron(w, datasetABx0, labelsAB)\n",
    "\n",
    "print(w_pocket_best)\n",
    "w_pocket"
   ]
  },
  {
   "cell_type": "code",
   "execution_count": null,
   "metadata": {
    "deletable": false,
    "editable": false,
    "nbgrader": {
     "checksum": "612808b72ecbf8328332498f747e09a4",
     "grade": true,
     "grade_id": "pocket-perceptron-tests",
     "locked": true,
     "points": 5,
     "schema_version": 1,
     "solution": false
    }
   },
   "outputs": [],
   "source": [
    "assert len(w_pocket) == 23\n",
    "assert w_pocket[-1][0] == -2\n",
    "assert np.round(w_pocket[-1][1]) == 73.0\n",
    "assert np.round(w_pocket[-1][2]) == -84.0\n",
    "assert np.array_equal(w_pocket[-1], w_pocket_best)"
   ]
  },
  {
   "cell_type": "markdown",
   "metadata": {},
   "source": [
    "Finally, generate an animation using the functions bellow to show how the weight vector varies with each iteration."
   ]
  },
  {
   "cell_type": "code",
   "execution_count": null,
   "metadata": {},
   "outputs": [],
   "source": [
    "def PerceptronLine(datasetAB,labelsAB,ax, w, t, total_frames=None):\n",
    "    # Function developed by A. Freitas adapted to MAC5832-2019 by R. Hirata, C. Rodrigues and A. Martinazzo\n",
    "    \"\"\"PerceptronLine function draws a line \n",
    "    \n",
    "    Parameters\n",
    "    ----------\n",
    "    datasetAB : The dataset points\n",
    "    labelsAB : The labels for each point\n",
    "    ax : numpy array of floats\n",
    "        The initial set of weights for the perceptron classificator.\n",
    "    w : numpy array of floats\n",
    "        The weights of the perceptron line.\n",
    "    t : integer\n",
    "        Timestep\n",
    "\n",
    "    \"\"\"\n",
    "    \n",
    "    if total_frames is None:\n",
    "        alpha = 1\n",
    "    else:\n",
    "        alpha = t/total_frames\n",
    "    \n",
    "    ax.set_title(\"Perceptron Learning Algorithm $(t=%d)$\" % t)\n",
    "    ax.scatter(datasetAB[:,0], datasetAB[:,1], s=20, c=labelsAB)\n",
    "    \n",
    "    xlim = ax.get_xlim()\n",
    "    ylim = ax.get_ylim()\n",
    "\n",
    "    x = np.linspace(xlim[0], xlim[1], 3)\n",
    "    y = -(w[1]/w[2])*x - w[0]/w[2]\n",
    "    ax.plot(x, y, 'k-', linewidth=1, alpha=alpha)\n",
    "\n",
    "    \n",
    "def animate(frame_num):\n",
    "    ax.clear()\n",
    "    ax.set_xlim(-20,80)\n",
    "    ax.set_ylim(-20,80)\n",
    "    np.random.seed(17)\n",
    "    \n",
    "    PerceptronLine(datasetAB, labelsAB, ax, smaller_w[frame_num], frame_num)\n",
    "    \n",
    "def display_animation(anim):\n",
    "    plt.close(anim._fig)\n",
    "    return HTML(anim.to_html5_video())"
   ]
  },
  {
   "cell_type": "markdown",
   "metadata": {},
   "source": [
    "The example bellow shows how to use the functions to animate the classic perceptron. "
   ]
  },
  {
   "cell_type": "code",
   "execution_count": null,
   "metadata": {},
   "outputs": [],
   "source": [
    "smaller_w = np.copy(w_classic)\n",
    "\n",
    "fig, ax = plt.subplots(1, 1)\n",
    "ax.set_xlim(-20,80)\n",
    "ax.set_ylim(-20,80)\n",
    "ani = animation.FuncAnimation(fig, animate, frames=len(smaller_w), blit=False, interval=200, repeat=False)\n",
    "display_animation(ani)"
   ]
  },
  {
   "cell_type": "markdown",
   "metadata": {},
   "source": [
    "Try to implement the animation yourself for the pocket perceptron."
   ]
  },
  {
   "cell_type": "code",
   "execution_count": null,
   "metadata": {
    "deletable": false,
    "nbgrader": {
     "checksum": "d9bf707bd86f7b2d7daa46269e0cff01",
     "grade": true,
     "grade_id": "cell-1d35325fd1705083",
     "locked": false,
     "points": 0,
     "schema_version": 1,
     "solution": true
    }
   },
   "outputs": [],
   "source": [
    "# YOUR CODE HERE\n",
    "raise NotImplementedError()"
   ]
  }
 ],
 "metadata": {
  "kernelspec": {
   "display_name": "Python 3",
   "language": "python",
   "name": "python3"
  },
  "language_info": {
   "codemirror_mode": {
    "name": "ipython",
    "version": 3
   },
   "file_extension": ".py",
   "mimetype": "text/x-python",
   "name": "python",
   "nbconvert_exporter": "python",
   "pygments_lexer": "ipython3",
   "version": "3.7.3"
  },
  "latex_envs": {
   "LaTeX_envs_menu_present": true,
   "bibliofile": "biblio.bib",
   "cite_by": "apalike",
   "current_citInitial": 1,
   "eqLabelWithNumbers": true,
   "eqNumInitial": 1,
   "hotkeys": {
    "equation": "Ctrl-E",
    "itemize": "Ctrl-I"
   },
   "labels_anchors": false,
   "latex_user_defs": false,
   "report_style_numbering": false,
   "user_envs_cfg": false
  },
  "toc": {
   "colors": {
    "hover_highlight": "#DAA520",
    "running_highlight": "#FF0000",
    "selected_highlight": "#FFD700"
   },
   "moveMenuLeft": true,
   "nav_menu": {
    "height": "30px",
    "width": "252px"
   },
   "navigate_menu": true,
   "number_sections": true,
   "sideBar": true,
   "threshold": 4,
   "toc_cell": false,
   "toc_section_display": "block",
   "toc_window_display": false
  }
 },
 "nbformat": 4,
 "nbformat_minor": 2
}
